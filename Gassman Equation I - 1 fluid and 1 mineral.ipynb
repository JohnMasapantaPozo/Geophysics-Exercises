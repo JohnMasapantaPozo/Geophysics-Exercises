{
 "cells": [
  {
   "cell_type": "markdown",
   "metadata": {},
   "source": [
    "<h1 align=\"center\"> GASSMANN FLUID REPLACEMENT APPLICATION </h3>"
   ]
  },
  {
   "cell_type": "markdown",
   "metadata": {},
   "source": [
    "<h3 align=\"center\"> GASSMANN EQUATION </h3>\n",
    "<h3 align=\"center\"> ONE MINERAL ROCK SATURATED BY ONE FLUID </h3>"
   ]
  },
  {
   "cell_type": "markdown",
   "metadata": {},
   "source": [
    "<h3> STUDENT: MASAPANTA POZO, John </h3>\n",
    "\n",
    "Wednesday, 9th November, 2020\\\n",
    "Stavanger-Norway"
   ]
  },
  {
   "cell_type": "markdown",
   "metadata": {},
   "source": [
    "**This python script has been built based on the following enunciate:**\n",
    "\n",
    "**EXERCISE**\n",
    "\n",
    "<p style='text-align: justify;'> \n",
    "\n",
    "Consider an oil-saturated sandstone reservoir with porosity 30%. Assume for simplicity 100% oil saturation and pure quartz sand. The P-wave velocity is 3050 m/s, the S-wave velocity is 1660 m/s. \n",
    "\n",
    "\n",
    "***(b)*** Compute the P-wave velocity, S-wave velocity and density for a brine saturated reservoir.\n",
    "\n",
    "***(c)*** Compute the P-wave velocity, S-wave velocity and density for a gas saturated reservoir (100% gas saturations).\n",
    "\n",
    "***(d)*** Plot the brine, oil and gas points in a cross plot with acoustic impedance (AI) as horizontal axis and Vp/Vs ratio as the vertical axis.\n",
    "\n",
    "**In other words,** the exercise ask for applying the fluid replacement algorithm considering an oil-saturated sandstone reservoir to understand how some properties such as: primary velocities(Vp), secondary velocities (Vs), and Accoustic Impedance (AI) vary if the reservoir were saturated either by brine or gas.\n",
    "    \n",
    "</p>"
   ]
  },
  {
   "cell_type": "code",
   "execution_count": 1,
   "metadata": {},
   "outputs": [],
   "source": [
    "import numpy as np\n",
    "import pandas as pd\n",
    "import matplotlib.pyplot as plt"
   ]
  },
  {
   "cell_type": "markdown",
   "metadata": {},
   "source": [
    "# A. GASSMANN FUNCTION I\n",
    "\n",
    "\n",
    "### Fluid replacement (Constant Porosity and Water Saturation)\n",
    "\n",
    "**Considerations:**\n",
    "\n",
    "**1.** One mineral rock\\\n",
    "**2.** 100% Oil-saturated\\\n",
    "**3.** Porosity = 30 %"
   ]
  },
  {
   "cell_type": "markdown",
   "metadata": {},
   "source": [
    "__DEFINING DATA:__\n",
    "\n",
    "    poro  = Porosity [fraction]\n",
    "    Vp    = Primary Velocity [m/s]\n",
    "    Vs    = Secondary Velocity [m/s]\n",
    "    Kw    = Brine Bulk Modulus [GPa]\n",
    "    Ko    = Oil Bulk Modulus [GPa]\n",
    "    Kg    = Gas Bulk Modulus [GPa]\n",
    "    Kq    = Quartz Bulk Modulus [GPa]\n",
    "    Gq    = Quartz Shear Modulus [GPa]\n",
    "    rho_q = Quartz density [g/ccm]\n",
    "    Kc    = Clay Bulk Modulus [GPa]\n",
    "    Gc    = Clay Shear Modulus [GPa]\n",
    "    rho_c = Clay density [g/ccm]"
   ]
  },
  {
   "cell_type": "code",
   "execution_count": 2,
   "metadata": {},
   "outputs": [],
   "source": [
    "#INPUTS\n",
    "\n",
    "#CONSTANT INPUT\n",
    "Kw    = 2.75\n",
    "rho_w = 1.025\n",
    "Ko    = 0.8\n",
    "rho_o = 0.75\n",
    "Kg    = 0.1\n",
    "rho_g = 0.23\n",
    "Kq    = 37\n",
    "Gq    = 44\n",
    "rho_q = 2.65\n",
    "Kc    = 30\n",
    "Gc    = 10\n",
    "rho_c = 2.60\n",
    "\n",
    "# ADDITIONAL INPUT\n",
    "poro  = 0.3\n",
    "Vp_os = 3050      #Primary and secondary velocities measured in an oil saturated sandstone\n",
    "Vs_os = 1660"
   ]
  },
  {
   "cell_type": "code",
   "execution_count": 3,
   "metadata": {},
   "outputs": [],
   "source": [
    "#GASSMANN ALGORITHM FUNCTION FOR FLUID REPLACEMENT\n",
    "\n",
    "def Gassmann(poro, rho_q, rho_o, rho_w, rho_g, Vs_os, Vp_os):\n",
    "    rho_ws = ((1-poro)*rho_q + poro*rho_w)*1000    #Brine saturated quartz material rock\n",
    "    rho_os = ((1-poro)*rho_q + poro*rho_o)*1000    #Oil saturated quartz material rock - used for inverted Gassmann Equation\n",
    "    rho_gs = ((1-poro)*rho_q + poro*rho_g)*1000    #Gas saturated quartz material rock\n",
    "    \n",
    "    #Computing Modulus for the oil-saturated rock\n",
    "    G_os = (Vs_os**2)*rho_os/10**9                       #Shear Modulus for an oil-saturated rock [Gpa]\n",
    "    M_os = (Vp_os**2)*rho_os/10**9                       #M Modulus for an oil-saturated rock [GPa]\n",
    "    K_os = M_os - 4*G_os/3                               #Bulk Modulus for an oil-saturated rock [GPa]\n",
    "    \n",
    "    #Inverted Gassmann Equation for computing K_dry\n",
    "    a = K_os*(poro*Kq/Ko+1-poro)-Kq\n",
    "    b = (poro*Kq/Ko)+(K_os/Kq)-1-poro\n",
    "    K_dry = a/b                                          #Bulk Modulus for the dry or non-saturated rock [GPa]\n",
    "    \n",
    "    #Gassmann Equation for fluid replacement - brine\n",
    "    K_fluids = [Ko, Kg, Kw]\n",
    "    K_fs_mat = []\n",
    "    for K_f in K_fluids:\n",
    "        c = (1-K_dry/Kq)**2\n",
    "        d = poro/K_f + (1-poro)/Kq - K_dry/Kq**2\n",
    "        K_s = K_dry + c/d\n",
    "        K_fs_mat.append(K_s)                            #Bulk Modulus for an oil, gas, and brine-saturated rock, respectively [GPa]\n",
    "    \n",
    "    M_fs_mat = []\n",
    "    for K_fs in K_fs_mat:\n",
    "        M_fs = K_fs + 4*G_os/3\n",
    "        M_fs_mat.append(M_fs)\n",
    "\n",
    "    rho_mat = [rho_os, rho_gs, rho_ws]\n",
    "    Vp_mat = []\n",
    "    for i in range(len(rho_mat)):      \n",
    "        Vp_s = ((M_fs_mat[i]*10**9)/(rho_mat[i]))**(1/2)\n",
    "        Vp_mat.append(Vp_s)                            #P-Velocities for oil, gas, and brine-saturated rock, respectively [GPa]\n",
    "    \n",
    "    Vs_mat = []\n",
    "    for i in range(len(rho_mat)):      \n",
    "        Vs_s = ((G_os*10**9)/(rho_mat[i]))**(1/2)\n",
    "        Vs_mat.append(Vs_s)                            #S-Velocities for gas and brine-saturated rock, respectively [GPa]\n",
    "          \n",
    "    AI_mat = []                                       #Acoustic Impedance and Vp/Vs ratio Calculation\n",
    "    Vp_Vs_mat = []\n",
    "    for i in range(len(Vp_mat)):\n",
    "        AI_s = Vp_mat[i]*rho_mat[i]\n",
    "        AI_mat.append(AI_s)\n",
    "        \n",
    "        Vp_Vs = Vp_mat[i]/Vs_mat[i]\n",
    "        Vp_Vs_mat.append(Vp_Vs)\n",
    "\n",
    "    results = [poro, AI_mat[0], AI_mat[1], AI_mat[2], Vp_Vs_mat[0], Vp_Vs_mat[1], \n",
    "               Vp_Vs_mat[2], rho_mat[0], rho_mat[1], rho_mat[2],\n",
    "              Vp_mat[0], Vp_mat[1], Vp_mat[2], Vs_mat[0], Vs_mat[1], Vs_mat[2]]\n",
    "    return results"
   ]
  },
  {
   "cell_type": "code",
   "execution_count": 4,
   "metadata": {},
   "outputs": [
    {
     "name": "stdout",
     "output_type": "stream",
     "text": [
      "Porosity = 0.3\n",
      "AI_oil = 6344000.0\n",
      "AI_gas = 5914256.71\n",
      "AI_brine = 6945951.76\n",
      "Vs/Vs_oil = 1.84\n",
      "Vs/Vs_gas = 1.78\n",
      "Vs/Vs_brine = 1.97\n",
      "Density oil-sat rock = 2080.0\n",
      "Density gas-sat rock = 1924.0\n",
      "Density brine-sat rock = 2162.5\n",
      "Vp_oil = 3050.0\n",
      "Vp_gas = 3073.94\n",
      "Vp_brine = 3212.0\n",
      "Vs_oil = 1660.0\n",
      "Vs_gas = 1725.99\n",
      "Vs_brine = 1628.03\n"
     ]
    }
   ],
   "source": [
    "#Calling Gassmann Function with porosity = 0.3\n",
    "\n",
    "results = Gassmann(poro, rho_q, rho_o, rho_w, rho_g, Vs_os, Vp_os)\n",
    "\n",
    "labels = [\"Porosity = \", \"AI_oil = \", \"AI_gas = \", \"AI_brine = \", \"Vs/Vs_oil = \", \"Vs/Vs_gas = \",\n",
    "          \"Vs/Vs_brine = \", \"Density oil-sat rock = \", \"Density gas-sat rock = \", \"Density brine-sat rock = \", \n",
    "         \"Vp_oil = \", \"Vp_gas = \", \"Vp_brine = \", \"Vs_oil = \", \"Vs_gas = \", \"Vs_brine = \"]\n",
    "\n",
    "for i in range(len(results)):\n",
    "    r = labels[i] + str(round(results[i], 2))\n",
    "    print(r)"
   ]
  },
  {
   "cell_type": "code",
   "execution_count": 5,
   "metadata": {},
   "outputs": [
    {
     "name": "stdout",
     "output_type": "stream",
     "text": [
      "Note: The size of the circles in the plot are 200 times proportional to the porosity.\n",
      "In other words, the bigest ones represent the highest posorities values and vice versa\n"
     ]
    },
    {
     "data": {
      "image/png": "[encoded data removed]",
      "text/plain": [
       "<Figure size 432x288 with 1 Axes>"
      ]
     },
     "metadata": {
      "needs_background": "light"
     },
     "output_type": "display_data"
    }
   ],
   "source": [
    "#Plotting\n",
    "\n",
    "#Plotting Results AI versus VP/VS for brine, oil and gas saturated rocks with 30% porosity\n",
    "\n",
    "fig, ax = plt.subplots()\n",
    "                                 \n",
    "ax.scatter(results[3], results[6], c=\"tab:red\", s=250,\n",
    "               alpha=0.8, edgecolors='black')\n",
    "ax.scatter(results[1], results[4], c=\"green\", s=250,\n",
    "               alpha=0.5, edgecolors='black')\n",
    "ax.scatter(results[2], results[5], c=\"tab:blue\", s=250,\n",
    "               alpha=0.5, edgecolors='black')\n",
    "\n",
    "plt.xlabel('Accoustic Impedance'); plt.ylabel('Vp/Vs Ratio'); plt.title('ACCOUSTIC IMPEDANCE vs. VP/Vs RATIO')\n",
    "ax.legend([\"Brine-Saturated Rock, porosity = 30%\", \"Oil-saturated Rock, porosity = 30%\", \"Gas-saturated, porosity = 30%\"], loc = 'upper left')\n",
    "ax.grid(True)\n",
    "\n",
    "plt.subplots_adjust(left=0.0, bottom=0.0, right=2.0, top=2.2, wspace=0.2, hspace=0.3)\n",
    "#plt.show()\n",
    "\n",
    "print(\"\"\"Note: The size of the circles in the plot are 200 times proportional to the porosity.\n",
    "In other words, the bigest ones represent the highest posorities values and vice versa\"\"\")"
   ]
  }
 ],
 "metadata": {
  "kernelspec": {
   "display_name": "Python 3",
   "language": "python",
   "name": "python3"
  },
  "language_info": {
   "codemirror_mode": {
    "name": "ipython",
    "version": 3
   },
   "file_extension": ".py",
   "mimetype": "text/x-python",
   "name": "python",
   "nbconvert_exporter": "python",
   "pygments_lexer": "ipython3",
   "version": "3.7.4"
  }
 },
 "nbformat": 4,
 "nbformat_minor": 2
}
